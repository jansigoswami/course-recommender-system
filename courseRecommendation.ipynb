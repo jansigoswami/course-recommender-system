{
 "cells": [
  {
   "cell_type": "markdown",
   "id": "94cffdb7",
   "metadata": {},
   "source": [
    "## Assignment\n",
    "\n",
    "1. Recommend courses based on programming_language.\n",
    "   - Build a logic and create flolwchart of it.\n",
    "   - Write the code for it in python/sql."
   ]
  },
  {
   "cell_type": "markdown",
   "id": "e1fed9b3",
   "metadata": {},
   "source": [
    "## Psudo Solution \n",
    "\n",
    "- create_engine\n",
    "- import data from database \n",
    "- preprocessing\n",
    "- group user table data based on language \n",
    "- for user in language\n",
    "- now create a table with recommendation which have course and user id which are not enrolled by user but they are in that   language  [userid,course]\n",
    "- now calculate every course avg rating\n",
    "- for recommendation use avg rating of particular language's course avg rating"
   ]
  },
  {
   "cell_type": "code",
   "execution_count": 1,
   "id": "4418895e",
   "metadata": {},
   "outputs": [],
   "source": [
    "import pandas as pd\n",
    "import sqlalchemy\n",
    "import mysql.connector\n",
    "from mysql.connector import Error\n",
    "from sqlalchemy import create_engine\n"
   ]
  },
  {
   "cell_type": "code",
   "execution_count": 2,
   "id": "33cd3f1f",
   "metadata": {},
   "outputs": [],
   "source": [
    "# cur.execute('select * from rating')\n",
    "# cur.fetchone()"
   ]
  },
  {
   "cell_type": "markdown",
   "id": "597c6ac2",
   "metadata": {},
   "source": [
    "## creating engine"
   ]
  },
  {
   "cell_type": "code",
   "execution_count": 3,
   "id": "b6c9a2d0",
   "metadata": {},
   "outputs": [],
   "source": [
    "db_engine = create_engine(\n",
    "    'mysql+mysqlconnector://{0}:{1}@{2}/{3}'.format(\n",
    "        'root','9109','localhost','elearning'\n",
    "    )\n",
    ")\n",
    "\n",
    "def extract_table_to_pd(tablename,engine):\n",
    "    query = f'select * from {tablename}'\n",
    "    return pd.read_sql(query,engine)\n",
    "    "
   ]
  },
  {
   "cell_type": "markdown",
   "id": "fb421f69",
   "metadata": {},
   "source": [
    "## import data from database"
   ]
  },
  {
   "cell_type": "code",
   "execution_count": 4,
   "id": "f9a6af61",
   "metadata": {
    "scrolled": false
   },
   "outputs": [],
   "source": [
    "ratings = extract_table_to_pd('rating',db_engine)\n",
    "courses = extract_table_to_pd('courses',db_engine)"
   ]
  },
  {
   "cell_type": "markdown",
   "id": "d5eab641",
   "metadata": {},
   "source": [
    "## Preprocessing"
   ]
  },
  {
   "cell_type": "code",
   "execution_count": 5,
   "id": "606104e8",
   "metadata": {},
   "outputs": [
    {
     "name": "stdout",
     "output_type": "stream",
     "text": [
      "<class 'pandas.core.frame.DataFrame'>\n",
      "RangeIndex: 100 entries, 0 to 99\n",
      "Data columns (total 4 columns):\n",
      " #   Column                Non-Null Count  Dtype \n",
      "---  ------                --------------  ----- \n",
      " 0   course_id             100 non-null    int64 \n",
      " 1   title                 100 non-null    object\n",
      " 2   description           100 non-null    object\n",
      " 3   programming_language  97 non-null     object\n",
      "dtypes: int64(1), object(3)\n",
      "memory usage: 3.3+ KB\n"
     ]
    }
   ],
   "source": [
    "courses.info()"
   ]
  },
  {
   "cell_type": "code",
   "execution_count": 6,
   "id": "27e69360",
   "metadata": {},
   "outputs": [
    {
     "data": {
      "text/plain": [
       "r               50\n",
       "python          36\n",
       "sql              6\n",
       "shell            3\n",
       "spreadsheets     2\n",
       "Name: programming_language, dtype: int64"
      ]
     },
     "execution_count": 6,
     "metadata": {},
     "output_type": "execute_result"
    }
   ],
   "source": [
    "courses[\"programming_language\"].value_counts()"
   ]
  },
  {
   "cell_type": "code",
   "execution_count": 7,
   "id": "1c2d7d7e",
   "metadata": {},
   "outputs": [],
   "source": [
    "courses[\"programming_language\"].fillna('r',inplace = True)"
   ]
  },
  {
   "cell_type": "code",
   "execution_count": 8,
   "id": "b89e9f98",
   "metadata": {},
   "outputs": [
    {
     "name": "stdout",
     "output_type": "stream",
     "text": [
      "<class 'pandas.core.frame.DataFrame'>\n",
      "RangeIndex: 59172 entries, 0 to 59171\n",
      "Data columns (total 3 columns):\n",
      " #   Column     Non-Null Count  Dtype\n",
      "---  ------     --------------  -----\n",
      " 0   user_id    59172 non-null  int64\n",
      " 1   course_id  59172 non-null  int64\n",
      " 2   rating     59172 non-null  int64\n",
      "dtypes: int64(3)\n",
      "memory usage: 1.4 MB\n"
     ]
    }
   ],
   "source": [
    "ratings.info()"
   ]
  },
  {
   "cell_type": "markdown",
   "id": "d601e4db",
   "metadata": {},
   "source": [
    "## group user tabledata based on language"
   ]
  },
  {
   "cell_type": "code",
   "execution_count": 9,
   "id": "d805e199",
   "metadata": {},
   "outputs": [],
   "source": [
    "sample_rating = ratings"
   ]
  },
  {
   "cell_type": "code",
   "execution_count": 10,
   "id": "4e02d6ec",
   "metadata": {},
   "outputs": [],
   "source": [
    "merged = sample_rating.merge(courses,on = 'course_id')"
   ]
  },
  {
   "cell_type": "code",
   "execution_count": 11,
   "id": "1a9fce70",
   "metadata": {},
   "outputs": [
    {
     "data": {
      "text/plain": [
       "(59172, 6)"
      ]
     },
     "execution_count": 11,
     "metadata": {},
     "output_type": "execute_result"
    }
   ],
   "source": [
    "merged.shape"
   ]
  },
  {
   "cell_type": "code",
   "execution_count": 12,
   "id": "b553dd8d",
   "metadata": {
    "scrolled": true
   },
   "outputs": [],
   "source": [
    "merged_grp_data = merged.groupby(by = ['programming_language'])"
   ]
  },
  {
   "cell_type": "code",
   "execution_count": 13,
   "id": "fd7e94f3",
   "metadata": {},
   "outputs": [],
   "source": [
    "# for grp in merged_grp_data.groups.keys():\n",
    "#     print(merged_grp_data.get_group(grp).head())"
   ]
  },
  {
   "cell_type": "code",
   "execution_count": 14,
   "id": "aec9140e",
   "metadata": {},
   "outputs": [
    {
     "data": {
      "text/plain": [
       "<pandas.core.groupby.generic.DataFrameGroupBy object at 0x000002CD39953590>"
      ]
     },
     "execution_count": 14,
     "metadata": {},
     "output_type": "execute_result"
    }
   ],
   "source": [
    "merged_grp_data\n",
    "# merged[merged['user_id'] == 31945]"
   ]
  },
  {
   "cell_type": "code",
   "execution_count": 15,
   "id": "73a26d8a",
   "metadata": {},
   "outputs": [
    {
     "data": {
      "text/plain": [
       "dict_keys(['python', 'r', 'shell', 'spreadsheets', 'sql'])"
      ]
     },
     "execution_count": 15,
     "metadata": {},
     "output_type": "execute_result"
    }
   ],
   "source": [
    "language_unique = merged_grp_data.groups.keys()\n",
    "language_unique"
   ]
  },
  {
   "cell_type": "code",
   "execution_count": 16,
   "id": "a3b6f933",
   "metadata": {},
   "outputs": [],
   "source": [
    "# group11 = merged_grp_data.get_group('python')\n",
    "# # for user in group11:\n",
    "# #     print(user)\n",
    "# group11\n",
    "# merged.columns"
   ]
  },
  {
   "cell_type": "markdown",
   "id": "1edf7633",
   "metadata": {},
   "source": [
    "# for user in language"
   ]
  },
  {
   "cell_type": "code",
   "execution_count": 16,
   "id": "023b6713",
   "metadata": {},
   "outputs": [],
   "source": [
    "# for user in merged_grp_data.get_group('r')['user_id']:\n",
    "#     print(user)\n",
    "#     break\n",
    "\n",
    "# Iterate through groups\n",
    "# for group_label, group_data in grouped:\n",
    "#     print(f\"Group: {group_label}\")\n",
    "#     print(group_data)\n",
    "\n",
    "# merged_grp_data.get_group('r')[:5]\n",
    "# # course = set(merged_grp_data.get_group('r')['course_id'])\n",
    "# set(merged_grp_data.get_group('r')[merged_grp_data.get_group('r')['user_id'] == user]['course_id'].values)- {3} "
   ]
  },
  {
   "cell_type": "code",
   "execution_count": 17,
   "id": "8e35eda0",
   "metadata": {},
   "outputs": [],
   "source": [
    "def unEnrolled():\n",
    "    new_table = pd.DataFrame()\n",
    "    for language in language_unique:\n",
    "    #    group is dataframe having data of one perticular language\n",
    "        group = merged_grp_data.get_group(language)\n",
    "    #   course is a set having ids of all courses in a perticular language   \n",
    "        all_courses = set(group['course_id'])\n",
    "    #     new table used to append user id and course not enrolled\n",
    "    \n",
    "        for user in group['user_id']:\n",
    "    #         creating set of all courses that already enrolled by user\n",
    "            enrolled_courses = set(group[group['user_id'] == user]['course_id'].values)\n",
    "    #     getting not enrolled by set substraction\n",
    "            not_enrolled = all_courses - enrolled_courses\n",
    "            not_enrolled = [i for i in not_enrolled]\n",
    "            not_enrolled_df = pd.DataFrame({\n",
    "                'user_id': user*len(not_enrolled),\n",
    "                'course_id' : not_enrolled\n",
    "            })\n",
    "    #         print(not_enrolled_df)\n",
    "            new_table = pd.concat([new_table,not_enrolled_df],ignore_index = True)\n",
    "    return new_table"
   ]
  },
  {
   "cell_type": "code",
   "execution_count": 18,
   "id": "1c9717f2",
   "metadata": {},
   "outputs": [],
   "source": [
    "# new_table1 = unEnrolled()\n",
    "# new_table1.to_csv('new_table.csv',index = False)"
   ]
  },
  {
   "cell_type": "code",
   "execution_count": 27,
   "id": "703e1039",
   "metadata": {},
   "outputs": [
    {
     "data": {
      "text/html": [
       "<div>\n",
       "<style scoped>\n",
       "    .dataframe tbody tr th:only-of-type {\n",
       "        vertical-align: middle;\n",
       "    }\n",
       "\n",
       "    .dataframe tbody tr th {\n",
       "        vertical-align: top;\n",
       "    }\n",
       "\n",
       "    .dataframe thead th {\n",
       "        text-align: right;\n",
       "    }\n",
       "</style>\n",
       "<table border=\"1\" class=\"dataframe\">\n",
       "  <thead>\n",
       "    <tr style=\"text-align: right;\">\n",
       "      <th></th>\n",
       "      <th>user_id</th>\n",
       "      <th>course_id</th>\n",
       "    </tr>\n",
       "  </thead>\n",
       "  <tbody>\n",
       "    <tr>\n",
       "      <th>0</th>\n",
       "      <td>35</td>\n",
       "      <td>1.0</td>\n",
       "    </tr>\n",
       "    <tr>\n",
       "      <th>1</th>\n",
       "      <td>35</td>\n",
       "      <td>7.0</td>\n",
       "    </tr>\n",
       "    <tr>\n",
       "      <th>2</th>\n",
       "      <td>35</td>\n",
       "      <td>14.0</td>\n",
       "    </tr>\n",
       "    <tr>\n",
       "      <th>3</th>\n",
       "      <td>35</td>\n",
       "      <td>17.0</td>\n",
       "    </tr>\n",
       "    <tr>\n",
       "      <th>4</th>\n",
       "      <td>35</td>\n",
       "      <td>18.0</td>\n",
       "    </tr>\n",
       "  </tbody>\n",
       "</table>\n",
       "</div>"
      ],
      "text/plain": [
       "   user_id  course_id\n",
       "0       35        1.0\n",
       "1       35        7.0\n",
       "2       35       14.0\n",
       "3       35       17.0\n",
       "4       35       18.0"
      ]
     },
     "execution_count": 27,
     "metadata": {},
     "output_type": "execute_result"
    }
   ],
   "source": [
    "new_table = pd.read_csv('new_table.csv')\n",
    "new_table.head()"
   ]
  },
  {
   "cell_type": "code",
   "execution_count": 28,
   "id": "7ca5e08d",
   "metadata": {},
   "outputs": [
    {
     "data": {
      "text/html": [
       "<div>\n",
       "<style scoped>\n",
       "    .dataframe tbody tr th:only-of-type {\n",
       "        vertical-align: middle;\n",
       "    }\n",
       "\n",
       "    .dataframe tbody tr th {\n",
       "        vertical-align: top;\n",
       "    }\n",
       "\n",
       "    .dataframe thead th {\n",
       "        text-align: right;\n",
       "    }\n",
       "</style>\n",
       "<table border=\"1\" class=\"dataframe\">\n",
       "  <thead>\n",
       "    <tr style=\"text-align: right;\">\n",
       "      <th></th>\n",
       "      <th>course_id</th>\n",
       "      <th>user_id</th>\n",
       "      <th>rating</th>\n",
       "    </tr>\n",
       "  </thead>\n",
       "  <tbody>\n",
       "    <tr>\n",
       "      <th>0</th>\n",
       "      <td>1</td>\n",
       "      <td>17377.250896</td>\n",
       "      <td>4.537634</td>\n",
       "    </tr>\n",
       "    <tr>\n",
       "      <th>1</th>\n",
       "      <td>2</td>\n",
       "      <td>20738.108434</td>\n",
       "      <td>4.253012</td>\n",
       "    </tr>\n",
       "    <tr>\n",
       "      <th>2</th>\n",
       "      <td>3</td>\n",
       "      <td>18699.290100</td>\n",
       "      <td>4.572611</td>\n",
       "    </tr>\n",
       "    <tr>\n",
       "      <th>3</th>\n",
       "      <td>4</td>\n",
       "      <td>18151.950581</td>\n",
       "      <td>4.305233</td>\n",
       "    </tr>\n",
       "    <tr>\n",
       "      <th>4</th>\n",
       "      <td>5</td>\n",
       "      <td>17469.437500</td>\n",
       "      <td>4.281250</td>\n",
       "    </tr>\n",
       "    <tr>\n",
       "      <th>...</th>\n",
       "      <td>...</td>\n",
       "      <td>...</td>\n",
       "      <td>...</td>\n",
       "    </tr>\n",
       "    <tr>\n",
       "      <th>94</th>\n",
       "      <td>96</td>\n",
       "      <td>18237.636439</td>\n",
       "      <td>4.692765</td>\n",
       "    </tr>\n",
       "    <tr>\n",
       "      <th>95</th>\n",
       "      <td>97</td>\n",
       "      <td>17981.387097</td>\n",
       "      <td>4.365591</td>\n",
       "    </tr>\n",
       "    <tr>\n",
       "      <th>96</th>\n",
       "      <td>98</td>\n",
       "      <td>17430.888889</td>\n",
       "      <td>4.269006</td>\n",
       "    </tr>\n",
       "    <tr>\n",
       "      <th>97</th>\n",
       "      <td>99</td>\n",
       "      <td>16202.086957</td>\n",
       "      <td>4.391304</td>\n",
       "    </tr>\n",
       "    <tr>\n",
       "      <th>98</th>\n",
       "      <td>100</td>\n",
       "      <td>17746.586957</td>\n",
       "      <td>4.282609</td>\n",
       "    </tr>\n",
       "  </tbody>\n",
       "</table>\n",
       "<p>99 rows × 3 columns</p>\n",
       "</div>"
      ],
      "text/plain": [
       "    course_id       user_id    rating\n",
       "0           1  17377.250896  4.537634\n",
       "1           2  20738.108434  4.253012\n",
       "2           3  18699.290100  4.572611\n",
       "3           4  18151.950581  4.305233\n",
       "4           5  17469.437500  4.281250\n",
       "..        ...           ...       ...\n",
       "94         96  18237.636439  4.692765\n",
       "95         97  17981.387097  4.365591\n",
       "96         98  17430.888889  4.269006\n",
       "97         99  16202.086957  4.391304\n",
       "98        100  17746.586957  4.282609\n",
       "\n",
       "[99 rows x 3 columns]"
      ]
     },
     "execution_count": 28,
     "metadata": {},
     "output_type": "execute_result"
    }
   ],
   "source": [
    "# new_table[new_table['user_id'] == 1167212]\n",
    "avg_ratings = ratings.groupby('course_id',as_index = False).mean()\n",
    "avg_ratings"
   ]
  },
  {
   "cell_type": "code",
   "execution_count": 29,
   "id": "77e33e80",
   "metadata": {},
   "outputs": [],
   "source": [
    "course_withAvgRating = pd.merge(courses,avg_ratings,on = 'course_id',)"
   ]
  },
  {
   "cell_type": "code",
   "execution_count": 30,
   "id": "1dc3ffaf",
   "metadata": {},
   "outputs": [
    {
     "data": {
      "text/html": [
       "<div>\n",
       "<style scoped>\n",
       "    .dataframe tbody tr th:only-of-type {\n",
       "        vertical-align: middle;\n",
       "    }\n",
       "\n",
       "    .dataframe tbody tr th {\n",
       "        vertical-align: top;\n",
       "    }\n",
       "\n",
       "    .dataframe thead th {\n",
       "        text-align: right;\n",
       "    }\n",
       "</style>\n",
       "<table border=\"1\" class=\"dataframe\">\n",
       "  <thead>\n",
       "    <tr style=\"text-align: right;\">\n",
       "      <th></th>\n",
       "      <th>course_id</th>\n",
       "      <th>title</th>\n",
       "      <th>description</th>\n",
       "      <th>programming_language</th>\n",
       "      <th>user_id</th>\n",
       "      <th>rating</th>\n",
       "    </tr>\n",
       "  </thead>\n",
       "  <tbody>\n",
       "    <tr>\n",
       "      <th>0</th>\n",
       "      <td>1</td>\n",
       "      <td>Machine Learning with Apache Spark</td>\n",
       "      <td>Spark is a powerful, general purpose tool for ...</td>\n",
       "      <td>python</td>\n",
       "      <td>17377.250896</td>\n",
       "      <td>4.537634</td>\n",
       "    </tr>\n",
       "    <tr>\n",
       "      <th>1</th>\n",
       "      <td>2</td>\n",
       "      <td>Financial Analytics in Spreadsheets</td>\n",
       "      <td>Monitoring the evolution of traded assets is k...</td>\n",
       "      <td>spreadsheets</td>\n",
       "      <td>20738.108434</td>\n",
       "      <td>4.253012</td>\n",
       "    </tr>\n",
       "    <tr>\n",
       "      <th>2</th>\n",
       "      <td>3</td>\n",
       "      <td>Intermediate R</td>\n",
       "      <td>The intermediate R course is the logical next ...</td>\n",
       "      <td>r</td>\n",
       "      <td>18699.290100</td>\n",
       "      <td>4.572611</td>\n",
       "    </tr>\n",
       "    <tr>\n",
       "      <th>3</th>\n",
       "      <td>4</td>\n",
       "      <td>Data Visualization with ggplot2 (Part 2)</td>\n",
       "      <td>This ggplot2 tutorial builds on your knowledge...</td>\n",
       "      <td>r</td>\n",
       "      <td>18151.950581</td>\n",
       "      <td>4.305233</td>\n",
       "    </tr>\n",
       "    <tr>\n",
       "      <th>4</th>\n",
       "      <td>5</td>\n",
       "      <td>Fraud Detection in R</td>\n",
       "      <td>The Association of Certified Fraud Examiners e...</td>\n",
       "      <td>r</td>\n",
       "      <td>17469.437500</td>\n",
       "      <td>4.281250</td>\n",
       "    </tr>\n",
       "  </tbody>\n",
       "</table>\n",
       "</div>"
      ],
      "text/plain": [
       "   course_id                                     title  \\\n",
       "0          1        Machine Learning with Apache Spark   \n",
       "1          2       Financial Analytics in Spreadsheets   \n",
       "2          3                            Intermediate R   \n",
       "3          4  Data Visualization with ggplot2 (Part 2)   \n",
       "4          5                      Fraud Detection in R   \n",
       "\n",
       "                                         description programming_language  \\\n",
       "0  Spark is a powerful, general purpose tool for ...               python   \n",
       "1  Monitoring the evolution of traded assets is k...         spreadsheets   \n",
       "2  The intermediate R course is the logical next ...                    r   \n",
       "3  This ggplot2 tutorial builds on your knowledge...                    r   \n",
       "4  The Association of Certified Fraud Examiners e...                    r   \n",
       "\n",
       "        user_id    rating  \n",
       "0  17377.250896  4.537634  \n",
       "1  20738.108434  4.253012  \n",
       "2  18699.290100  4.572611  \n",
       "3  18151.950581  4.305233  \n",
       "4  17469.437500  4.281250  "
      ]
     },
     "execution_count": 30,
     "metadata": {},
     "output_type": "execute_result"
    }
   ],
   "source": [
    "course_withAvgRating.head()"
   ]
  },
  {
   "cell_type": "code",
   "execution_count": 31,
   "id": "b9326605",
   "metadata": {},
   "outputs": [],
   "source": [
    "new_table['rating'] = [course_withAvgRating[course_withAvgRating['course_id'] == i ]['rating'].values[0] for i in new_table['course_id']]\n",
    "new_table.to_csv(\"new_table.csv\",index = False)"
   ]
  },
  {
   "cell_type": "code",
   "execution_count": 32,
   "id": "3e6225e5",
   "metadata": {},
   "outputs": [
    {
     "data": {
      "text/html": [
       "<div>\n",
       "<style scoped>\n",
       "    .dataframe tbody tr th:only-of-type {\n",
       "        vertical-align: middle;\n",
       "    }\n",
       "\n",
       "    .dataframe tbody tr th {\n",
       "        vertical-align: top;\n",
       "    }\n",
       "\n",
       "    .dataframe thead th {\n",
       "        text-align: right;\n",
       "    }\n",
       "</style>\n",
       "<table border=\"1\" class=\"dataframe\">\n",
       "  <thead>\n",
       "    <tr style=\"text-align: right;\">\n",
       "      <th></th>\n",
       "      <th>user_id</th>\n",
       "      <th>course_id</th>\n",
       "      <th>rating</th>\n",
       "    </tr>\n",
       "  </thead>\n",
       "  <tbody>\n",
       "    <tr>\n",
       "      <th>0</th>\n",
       "      <td>35</td>\n",
       "      <td>1.0</td>\n",
       "      <td>4.537634</td>\n",
       "    </tr>\n",
       "    <tr>\n",
       "      <th>1</th>\n",
       "      <td>35</td>\n",
       "      <td>7.0</td>\n",
       "      <td>4.601472</td>\n",
       "    </tr>\n",
       "    <tr>\n",
       "      <th>2</th>\n",
       "      <td>35</td>\n",
       "      <td>14.0</td>\n",
       "      <td>4.593220</td>\n",
       "    </tr>\n",
       "    <tr>\n",
       "      <th>3</th>\n",
       "      <td>35</td>\n",
       "      <td>17.0</td>\n",
       "      <td>4.147059</td>\n",
       "    </tr>\n",
       "    <tr>\n",
       "      <th>4</th>\n",
       "      <td>35</td>\n",
       "      <td>18.0</td>\n",
       "      <td>4.353497</td>\n",
       "    </tr>\n",
       "  </tbody>\n",
       "</table>\n",
       "</div>"
      ],
      "text/plain": [
       "   user_id  course_id    rating\n",
       "0       35        1.0  4.537634\n",
       "1       35        7.0  4.601472\n",
       "2       35       14.0  4.593220\n",
       "3       35       17.0  4.147059\n",
       "4       35       18.0  4.353497"
      ]
     },
     "execution_count": 32,
     "metadata": {},
     "output_type": "execute_result"
    }
   ],
   "source": [
    "new_table = pd.read_csv(\"new_table.csv\")\n",
    "new_table.head()"
   ]
  },
  {
   "cell_type": "code",
   "execution_count": 33,
   "id": "ac1882d7",
   "metadata": {},
   "outputs": [],
   "source": [
    "grp_of_user_rec = new_table.groupby('user_id')"
   ]
  },
  {
   "cell_type": "code",
   "execution_count": 34,
   "id": "e185d6fa",
   "metadata": {},
   "outputs": [],
   "source": [
    "final_recommendent = pd.DataFrame(columns=new_table.columns)\n",
    "for user in grp_of_user_rec.groups.keys():\n",
    "    temp = grp_of_user_rec.get_group(user)\n",
    "    final_recommendent = pd.concat([final_recommendent,\n",
    "                                    temp.sort_values(by='rating',\n",
    "                                    ascending=False)[:5]],\n",
    "                                   ignore_index = True)\n"
   ]
  },
  {
   "cell_type": "code",
   "execution_count": 35,
   "id": "3f03c940",
   "metadata": {},
   "outputs": [],
   "source": [
    "# grp_of_user_rec.groups.keys()\n",
    "# grp_of_user_rec.get_group(270)\n",
    "# pd.DataFrame(new_table.columns)\n",
    "final_recommendent.to_csv('To_recommendent.csv',index = False)"
   ]
  },
  {
   "cell_type": "code",
   "execution_count": 36,
   "id": "dbf9075a",
   "metadata": {},
   "outputs": [
    {
     "data": {
      "text/html": [
       "<div>\n",
       "<style scoped>\n",
       "    .dataframe tbody tr th:only-of-type {\n",
       "        vertical-align: middle;\n",
       "    }\n",
       "\n",
       "    .dataframe tbody tr th {\n",
       "        vertical-align: top;\n",
       "    }\n",
       "\n",
       "    .dataframe thead th {\n",
       "        text-align: right;\n",
       "    }\n",
       "</style>\n",
       "<table border=\"1\" class=\"dataframe\">\n",
       "  <thead>\n",
       "    <tr style=\"text-align: right;\">\n",
       "      <th></th>\n",
       "      <th>user_id</th>\n",
       "      <th>course_id</th>\n",
       "      <th>rating</th>\n",
       "    </tr>\n",
       "  </thead>\n",
       "  <tbody>\n",
       "    <tr>\n",
       "      <th>0</th>\n",
       "      <td>5</td>\n",
       "      <td>96.0</td>\n",
       "      <td>4.692765</td>\n",
       "    </tr>\n",
       "    <tr>\n",
       "      <th>1</th>\n",
       "      <td>5</td>\n",
       "      <td>68.0</td>\n",
       "      <td>4.526627</td>\n",
       "    </tr>\n",
       "    <tr>\n",
       "      <th>2</th>\n",
       "      <td>5</td>\n",
       "      <td>70.0</td>\n",
       "      <td>4.428144</td>\n",
       "    </tr>\n",
       "    <tr>\n",
       "      <th>3</th>\n",
       "      <td>5</td>\n",
       "      <td>15.0</td>\n",
       "      <td>4.313043</td>\n",
       "    </tr>\n",
       "    <tr>\n",
       "      <th>4</th>\n",
       "      <td>5</td>\n",
       "      <td>54.0</td>\n",
       "      <td>4.238095</td>\n",
       "    </tr>\n",
       "    <tr>\n",
       "      <th>...</th>\n",
       "      <td>...</td>\n",
       "      <td>...</td>\n",
       "      <td>...</td>\n",
       "    </tr>\n",
       "    <tr>\n",
       "      <th>203256</th>\n",
       "      <td>1946874</td>\n",
       "      <td>23.0</td>\n",
       "      <td>4.800000</td>\n",
       "    </tr>\n",
       "    <tr>\n",
       "      <th>203257</th>\n",
       "      <td>1946874</td>\n",
       "      <td>46.0</td>\n",
       "      <td>4.800000</td>\n",
       "    </tr>\n",
       "    <tr>\n",
       "      <th>203258</th>\n",
       "      <td>1946874</td>\n",
       "      <td>24.0</td>\n",
       "      <td>4.653061</td>\n",
       "    </tr>\n",
       "    <tr>\n",
       "      <th>203259</th>\n",
       "      <td>1946874</td>\n",
       "      <td>61.0</td>\n",
       "      <td>4.629213</td>\n",
       "    </tr>\n",
       "    <tr>\n",
       "      <th>203260</th>\n",
       "      <td>1946874</td>\n",
       "      <td>85.0</td>\n",
       "      <td>4.627119</td>\n",
       "    </tr>\n",
       "  </tbody>\n",
       "</table>\n",
       "<p>203261 rows × 3 columns</p>\n",
       "</div>"
      ],
      "text/plain": [
       "        user_id  course_id    rating\n",
       "0             5       96.0  4.692765\n",
       "1             5       68.0  4.526627\n",
       "2             5       70.0  4.428144\n",
       "3             5       15.0  4.313043\n",
       "4             5       54.0  4.238095\n",
       "...         ...        ...       ...\n",
       "203256  1946874       23.0  4.800000\n",
       "203257  1946874       46.0  4.800000\n",
       "203258  1946874       24.0  4.653061\n",
       "203259  1946874       61.0  4.629213\n",
       "203260  1946874       85.0  4.627119\n",
       "\n",
       "[203261 rows x 3 columns]"
      ]
     },
     "execution_count": 36,
     "metadata": {},
     "output_type": "execute_result"
    }
   ],
   "source": [
    "final_recommendent = pd.read_csv('To_recommendent.csv')\n",
    "final_recommendent"
   ]
  },
  {
   "cell_type": "code",
   "execution_count": null,
   "id": "467957ea",
   "metadata": {},
   "outputs": [],
   "source": []
  }
 ],
 "metadata": {
  "kernelspec": {
   "display_name": "Python 3 (ipykernel)",
   "language": "python",
   "name": "python3"
  },
  "language_info": {
   "codemirror_mode": {
    "name": "ipython",
    "version": 3
   },
   "file_extension": ".py",
   "mimetype": "text/x-python",
   "name": "python",
   "nbconvert_exporter": "python",
   "pygments_lexer": "ipython3",
   "version": "3.11.2"
  }
 },
 "nbformat": 4,
 "nbformat_minor": 5
}
